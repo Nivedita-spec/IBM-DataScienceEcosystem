{
 "cells": [
  {
   "cell_type": "markdown",
   "id": "8bd05618",
   "metadata": {},
   "source": [
    "#### Exercise 2 - Create a markdown cell with the title of the notebook.\n",
    "\n",
    "<h1> Data Science Tools and Ecosystem </h1>"
   ]
  },
  {
   "cell_type": "markdown",
   "id": "9789c5fd",
   "metadata": {},
   "source": [
    "#### Exercise 3 - Create a markdown cell for an introduction. (1 pt)\n",
    "\n",
    "In this notebook, Data Science Tools and Ecosystem are summarized."
   ]
  },
  {
   "cell_type": "markdown",
   "id": "4adb820f",
   "metadata": {},
   "source": [
    "#### Exercise 4 - Create a markdown cell to list data science languages. (3 pts)\n",
    "\n",
    "Some of the popular languages that Data Scientists use are:\n",
    "\n",
    "1. Python\n",
    "2. R\n",
    "3. SQL\n",
    "4. Java\n",
    "5. Julia\n",
    "6. Scala\n",
    "7. C++\n",
    "8. JavaScript\n",
    "9. Php\n",
    "10. Ruby"
   ]
  },
  {
   "cell_type": "markdown",
   "id": "6f80a234",
   "metadata": {},
   "source": [
    "#### Exercise 5 - Create a markdown cell to list data science libraries. (3 pts)\n",
    "\n",
    "Some of the commonly used libraries used by Data Scientists include:\n",
    "\n",
    "1. Pandas\n",
    "2. NumPy.\n",
    "3. SciPy.\n",
    "4. Matplotlib.\n",
    "5. SciKit-Learn.\n",
    "6. PyTorch.\n",
    "7. Keras\n",
    "8. Scrapy.\n",
    "9. Apache Spark\n",
    "10. Ggplot2\n",
    "11. Big DL\n",
    "12. Vegas"
   ]
  },
  {
   "cell_type": "markdown",
   "id": "270182a8",
   "metadata": {},
   "source": [
    "| **Data Science Tools**  | \n",
    "|-------------------------|\n",
    "| Jupyter Notebook        |\n",
    "| RStudio                 |\n",
    "| Anaconda                |"
   ]
  },
  {
   "cell_type": "markdown",
   "id": "282479f8",
   "metadata": {},
   "source": [
    "#### Exercise 7 - Create a markdown cell introducing arithmetic expression examples. (1 pt)\n",
    "\n",
    "Below are a few examples of evaluating arithmetic expressions in Python"
   ]
  },
  {
   "cell_type": "code",
   "execution_count": 1,
   "id": "96cdf49f",
   "metadata": {},
   "outputs": [
    {
     "data": {
      "text/plain": [
       "5"
      ]
     },
     "execution_count": 1,
     "metadata": {},
     "output_type": "execute_result"
    }
   ],
   "source": [
    "# Arithmetic operations\n",
    "code = compile(\"1 + 4\", \"<string>\", \"eval\")\n",
    "eval(code)\n",
    "# Result: 5"
   ]
  },
  {
   "cell_type": "code",
   "execution_count": 2,
   "id": "bd164313",
   "metadata": {},
   "outputs": [
    {
     "data": {
      "text/plain": [
       "32"
      ]
     },
     "execution_count": 2,
     "metadata": {},
     "output_type": "execute_result"
    }
   ],
   "source": [
    "code1 = compile(\"(9 + 7) * 2\", \"<string>\", \"eval\")\n",
    "eval(code1)\n",
    "# Result: 32"
   ]
  },
  {
   "cell_type": "code",
   "execution_count": 3,
   "id": "6d0129e8",
   "metadata": {},
   "outputs": [
    {
     "data": {
      "text/plain": [
       "17"
      ]
     },
     "execution_count": 3,
     "metadata": {},
     "output_type": "execute_result"
    }
   ],
   "source": [
    "# This a simple arithmetic expression to mutiply then add integers\n",
    "result = (3 * 4) + 5\n",
    "result\n",
    "# Result: 17"
   ]
  },
  {
   "cell_type": "markdown",
   "id": "7454c332",
   "metadata": {},
   "source": [
    "#### Exercise 9 - Create a code cell to convert minutes to hours**"
   ]
  },
  {
   "cell_type": "code",
   "execution_count": 2,
   "id": "9d435ffe",
   "metadata": {},
   "outputs": [
    {
     "data": {
      "text/plain": [
       "3.33"
      ]
     },
     "execution_count": 2,
     "metadata": {},
     "output_type": "execute_result"
    }
   ],
   "source": [
    "#This will convert 200 minutes to hours by diving by 60\n",
    "minutes = 200\n",
    "hours = round(minutes / 60, 2) \n",
    "hours"
   ]
  },
  {
   "cell_type": "markdown",
   "id": "1601d0b8",
   "metadata": {},
   "source": [
    "#### Exercise 10 -Insert a markdown cell to list Objectives. (3 pts)\n",
    "\n",
    "#### Objectives:\n",
    "* Add comment to the code\n",
    "* Create Markdown calls\n",
    "* Add ordered and unordered to markdown cells\n",
    "* "
   ]
  },
  {
   "cell_type": "markdown",
   "id": "5bbbe06a",
   "metadata": {},
   "source": [
    "## Exercise 11 - Create a markdown cell to indicate the Author’s name.\n",
    "\n",
    "<h2>\n",
    "Author: </h2>\n",
    "Nivedita Reddy Addulla\n",
    "   "
   ]
  }
 ],
 "metadata": {
  "kernelspec": {
   "display_name": "Python 3 (ipykernel)",
   "language": "python",
   "name": "python3"
  },
  "language_info": {
   "codemirror_mode": {
    "name": "ipython",
    "version": 3
   },
   "file_extension": ".py",
   "mimetype": "text/x-python",
   "name": "python",
   "nbconvert_exporter": "python",
   "pygments_lexer": "ipython3",
   "version": "3.10.9"
  }
 },
 "nbformat": 4,
 "nbformat_minor": 5
}
