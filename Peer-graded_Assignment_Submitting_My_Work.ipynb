{
 "cells": [
  {
   "cell_type": "markdown",
   "id": "8bd05618",
   "metadata": {},
   "source": [
    "#### Exercise 2 - Create a markdown cell with the title of the notebook.\n",
    "\n",
    "Data Science Tools and Ecosystem"
   ]
  },
  {
   "cell_type": "markdown",
   "id": "9789c5fd",
   "metadata": {},
   "source": [
    "#### Exercise 3 - Create a markdown cell for an introduction. (1 pt)\n",
    "\n",
    "In this notebook, Data Science Tools and Ecosystem are summarized."
   ]
  },
  {
   "cell_type": "markdown",
   "id": "4adb820f",
   "metadata": {},
   "source": [
    "#### Exercise 4 - Create a markdown cell to list data science languages. (3 pts)\n",
    "\n",
    "Some of the popular languages that Data Scientists use are:\n",
    "\n",
    "Python.\n",
    "R.\n",
    "SQL.\n",
    "Java.\n",
    "Julia.\n",
    "Scala.\n",
    "C/C++.\n",
    "JavaScript."
   ]
  },
  {
   "cell_type": "markdown",
   "id": "6f80a234",
   "metadata": {},
   "source": [
    "#### Exercise 5 - Create a markdown cell to list data science libraries. (3 pts)\n",
    "\n",
    "Some of the commonly used libraries used by Data Scientists include:\n",
    "\n",
    "TensorFlow.\n",
    "NumPy.\n",
    "SciPy.\n",
    "Pandas.\n",
    "Matplotlib.\n",
    "Keras.\n",
    "SciKit-Learn.\n",
    "PyTorch.\n",
    "Scrapy.\n",
    "BeautifulSoup.\n",
    "LightGBM.\n",
    "ELI5.\n",
    "Theano.\n",
    "NuPIC.\n",
    "Ramp.\n",
    "Pipenv.\n",
    "Bob.\n",
    "PyBrain.\n",
    "Caffe2.\n",
    "Chainer."
   ]
  },
  {
   "cell_type": "markdown",
   "id": "270182a8",
   "metadata": {},
   "source": [
    "#### Data Science Tools\n",
    "\n",
    "| Development Environment |\n",
    "|-------------------------|\n",
    "| Jupyter Notebook        |\n",
    "| RStudio                 |\n",
    "| VS Code with Python     |"
   ]
  },
  {
   "cell_type": "markdown",
   "id": "282479f8",
   "metadata": {},
   "source": [
    "#### Exercise 7 - Create a markdown cell introducing arithmetic expression examples. (1 pt)\n",
    "\n",
    "Below are a few examples of evaluating arithmetic expressions in Python"
   ]
  },
  {
   "cell_type": "code",
   "execution_count": 1,
   "id": "96cdf49f",
   "metadata": {},
   "outputs": [
    {
     "data": {
      "text/plain": [
       "5"
      ]
     },
     "execution_count": 1,
     "metadata": {},
     "output_type": "execute_result"
    }
   ],
   "source": [
    "# Arithmetic operations\n",
    "code = compile(\"1 + 4\", \"<string>\", \"eval\")\n",
    "eval(code)\n",
    "# Result: 5"
   ]
  },
  {
   "cell_type": "code",
   "execution_count": 2,
   "id": "bd164313",
   "metadata": {},
   "outputs": [
    {
     "data": {
      "text/plain": [
       "32"
      ]
     },
     "execution_count": 2,
     "metadata": {},
     "output_type": "execute_result"
    }
   ],
   "source": [
    "code1 = compile(\"(9 + 7) * 2\", \"<string>\", \"eval\")\n",
    "eval(code1)\n",
    "# Result: 32"
   ]
  },
  {
   "cell_type": "code",
   "execution_count": 3,
   "id": "6d0129e8",
   "metadata": {},
   "outputs": [
    {
     "data": {
      "text/plain": [
       "17"
      ]
     },
     "execution_count": 3,
     "metadata": {},
     "output_type": "execute_result"
    }
   ],
   "source": [
    "# This a simple arithmetic expression to mutiply then add integers\n",
    "result = (3 * 4) + 5\n",
    "result\n",
    "# Result: 17"
   ]
  },
  {
   "cell_type": "markdown",
   "id": "7454c332",
   "metadata": {},
   "source": [
    "#### Exercise 9 - Create a code cell to convert minutes to hours**"
   ]
  },
  {
   "cell_type": "code",
   "execution_count": 4,
   "id": "9d435ffe",
   "metadata": {},
   "outputs": [
    {
     "name": "stdout",
     "output_type": "stream",
     "text": [
      "3.3333333333333335 hours\n"
     ]
    }
   ],
   "source": [
    "#This will convert 200 minutes to hours by diving by 60\n",
    "minutes = 200\n",
    "hours = minutes / 60\n",
    "print(str(hours) + \" hours\")"
   ]
  },
  {
   "cell_type": "markdown",
   "id": "1601d0b8",
   "metadata": {},
   "source": [
    "#### Exercise 10 -Insert a markdown cell to list Objectives. (3 pts)\n",
    "\n",
    "#### Objectives:\n",
    "\n",
    "*Explore popular languages for Data Science:\n",
    "  -Understood the characteristics of languages like Python,R commonly used in Data Science.\n",
    "  -Compared and contrast the advantages and disadvantages of each language.\n",
    "\n",
    "*Learn fundamental Data Science concepts:\n",
    "  -Gained insights into key concepts like data manipulation, analysis, and visualization.\n",
    "  -Understood the importance of statistical analysis in extracting meaningful information from data.\n",
    "\n",
    "*Hands-on coding experience:\n",
    "  -Engaged in practical exercises and coding examples to reinforce theoretical concepts.\n",
    "  -Applied learned skills to solve real-world problems and scenarios.\n",
    "\n",
    "*Best practices and tools in Data Science:\n",
    "  -Learned about best practices, tools, and frameworks commonly used in the Data Science workflow.\n",
    "  -Explored the importance of collaboration, version control, and reproducibility in data projects."
   ]
  },
  {
   "cell_type": "markdown",
   "id": "5bbbe06a",
   "metadata": {},
   "source": [
    "#### Exercise 11 - Create a markdown cell to indicate the Author’s name.\n",
    "\n",
    "Author:\n",
    "Nivedita Reddy Addulla"
   ]
  }
 ],
 "metadata": {
  "kernelspec": {
   "display_name": "Python 3 (ipykernel)",
   "language": "python",
   "name": "python3"
  },
  "language_info": {
   "codemirror_mode": {
    "name": "ipython",
    "version": 3
   },
   "file_extension": ".py",
   "mimetype": "text/x-python",
   "name": "python",
   "nbconvert_exporter": "python",
   "pygments_lexer": "ipython3",
   "version": "3.10.9"
  }
 },
 "nbformat": 4,
 "nbformat_minor": 5
}
